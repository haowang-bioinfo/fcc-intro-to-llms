{
 "cells": [
  {
   "cell_type": "code",
   "execution_count": 32,
   "id": "f91971ac-3428-4d25-b865-95a4822f55fb",
   "metadata": {},
   "outputs": [
    {
     "name": "stdout",
     "output_type": "stream",
     "text": [
      "cpu\n",
      "/Users/haowa/Documents/GitHub/fcc-intro-to-llms/Documents/GitHub/fcc-intro-to-llms/\n"
     ]
    }
   ],
   "source": [
    "import os\n",
    "import time\n",
    "import torch\n",
    "import numpy as np\n",
    "\n",
    "device = 'cuda' if torch.cuda.is_available() else 'cpu'\n",
    "print(device)\n",
    "\n",
    "path = os.getcwd() + '/Documents/GitHub/fcc-intro-to-llms/'\n",
    "print(path)"
   ]
  },
  {
   "cell_type": "code",
   "execution_count": 7,
   "id": "584d46d0-e5dc-40fd-96bb-c018a8a338e3",
   "metadata": {},
   "outputs": [
    {
     "name": "stdout",
     "output_type": "stream",
     "text": [
      "0.00770569\n",
      "CPU times: user 2.57 ms, sys: 3.41 ms, total: 5.98 ms\n",
      "Wall time: 8.07 ms\n"
     ]
    }
   ],
   "source": [
    "%%time\n",
    "\n",
    "start_time = time.time()\n",
    "\n",
    "# matrix operations here\n",
    "zeros = torch.zeros(1, 1)\n",
    "end_time = time.time()\n",
    "\n",
    "elapsed_time = end_time - start_time\n",
    "print(f\"{elapsed_time:.8f}\")\n"
   ]
  },
  {
   "cell_type": "code",
   "execution_count": 11,
   "id": "b7fcfab9-142d-4069-bc2a-250e90f8ddff",
   "metadata": {},
   "outputs": [
    {
     "name": "stdout",
     "output_type": "stream",
     "text": [
      "0.19950104\n",
      "0.19246984\n"
     ]
    }
   ],
   "source": [
    "torch_rand1 = torch.rand(100, 100, 100, 100).to(device)\n",
    "torch_rand2 = torch.rand(100, 100, 100, 100).to(device)\n",
    "np_rand1 = torch.rand(100, 100, 100, 100)\n",
    "np_rand2 = torch.rand(100, 100, 100, 100)\n",
    "\n",
    "start_time = time.time()\n",
    "rand = (torch_rand1 @ torch_rand2)\n",
    "end_time = time.time()\n",
    "elapsed_time = end_time - start_time\n",
    "print(f\"{elapsed_time:.8f}\")\n",
    "\n",
    "\n",
    "start_time = time.time()\n",
    "rand = np.multiply(np_rand1, np_rand2)\n",
    "end_time = time.time()\n",
    "elapsed_time = end_time - start_time\n",
    "print(f\"{elapsed_time:.8f}\")"
   ]
  },
  {
   "cell_type": "code",
   "execution_count": 12,
   "id": "4117d0b0-2d89-4317-afd4-eef973deeeab",
   "metadata": {},
   "outputs": [
    {
     "name": "stdout",
     "output_type": "stream",
     "text": [
      "tensor([1, 1, 0, 1, 1, 0, 1, 1, 1, 1])\n"
     ]
    }
   ],
   "source": [
    "# embeddings: torch.stack, torch.multinomial, torch.tril, torch.triu,\n",
    "#             input.T / input.transpose, nn.Linear, torch.cat, \n",
    "#             F.softmax (show all the examples of functions/methods with pytorch docs)\n",
    "\n",
    "\n",
    "# Define a probability tensor\n",
    "probabilities = torch.tensor([0.1, 0.9])\n",
    "# 10% or 0.1 chance of 0, 90% or 0.9 for getting 1. \n",
    "# each probability points to the index of the probability in the tensor\n",
    "\n",
    "# Draw 5 samples from the multinomial distribution\n",
    "samples = torch.multinomial(probabilities, num_samples=10, replacement=True)\n",
    "print(samples)\n"
   ]
  },
  {
   "cell_type": "code",
   "execution_count": 14,
   "id": "cad5df0a-3da5-4384-92f6-e848ba2446f2",
   "metadata": {},
   "outputs": [
    {
     "data": {
      "text/plain": [
       "tensor([1, 2, 3, 4, 5])"
      ]
     },
     "execution_count": 14,
     "metadata": {},
     "output_type": "execute_result"
    }
   ],
   "source": [
    "tensor = torch.tensor([1, 2, 3, 4])\n",
    "out = torch.cat((tensor, torch.tensor([5])), dim=0)\n",
    "out"
   ]
  },
  {
   "cell_type": "code",
   "execution_count": 13,
   "id": "f2568a0e-35fe-40aa-b007-9ea222583c8a",
   "metadata": {},
   "outputs": [
    {
     "data": {
      "text/plain": [
       "tensor([[1., 0., 0., 0., 0.],\n",
       "        [1., 1., 0., 0., 0.],\n",
       "        [1., 1., 1., 0., 0.],\n",
       "        [1., 1., 1., 1., 0.],\n",
       "        [1., 1., 1., 1., 1.]])"
      ]
     },
     "execution_count": 13,
     "metadata": {},
     "output_type": "execute_result"
    }
   ],
   "source": [
    "# triangle lower, top left -> bottom right\n",
    "out = torch.tril(torch.ones(5, 5))\n",
    "out"
   ]
  },
  {
   "cell_type": "code",
   "execution_count": 15,
   "id": "fd4ed34f-c969-4cbc-9578-974a99281303",
   "metadata": {},
   "outputs": [
    {
     "data": {
      "text/plain": [
       "tensor([[1., 1., 1., 1., 1.],\n",
       "        [0., 1., 1., 1., 1.],\n",
       "        [0., 0., 1., 1., 1.],\n",
       "        [0., 0., 0., 1., 1.],\n",
       "        [0., 0., 0., 0., 1.]])"
      ]
     },
     "execution_count": 15,
     "metadata": {},
     "output_type": "execute_result"
    }
   ],
   "source": [
    "out = torch.triu(torch.ones(5, 5))\n",
    "out"
   ]
  },
  {
   "cell_type": "code",
   "execution_count": 16,
   "id": "2cb8cf6d-a3c9-4cbc-bb4b-c2235fb7e43f",
   "metadata": {},
   "outputs": [
    {
     "data": {
      "text/plain": [
       "tensor([[0., -inf, -inf, -inf, -inf],\n",
       "        [0., 0., -inf, -inf, -inf],\n",
       "        [0., 0., 0., -inf, -inf],\n",
       "        [0., 0., 0., 0., -inf],\n",
       "        [0., 0., 0., 0., 0.]])"
      ]
     },
     "execution_count": 16,
     "metadata": {},
     "output_type": "execute_result"
    }
   ],
   "source": [
    "out = torch.zeros(5, 5).masked_fill(torch.tril(torch.ones(5, 5)) == 0, float('-inf'))\n",
    "out"
   ]
  },
  {
   "cell_type": "code",
   "execution_count": 17,
   "id": "1e4159dc-a1eb-4e93-978c-43f857575556",
   "metadata": {},
   "outputs": [
    {
     "data": {
      "text/plain": [
       "tensor([[1., 0., 0., 0., 0.],\n",
       "        [1., 1., 0., 0., 0.],\n",
       "        [1., 1., 1., 0., 0.],\n",
       "        [1., 1., 1., 1., 0.],\n",
       "        [1., 1., 1., 1., 1.]])"
      ]
     },
     "execution_count": 17,
     "metadata": {},
     "output_type": "execute_result"
    }
   ],
   "source": [
    "torch.exp(out)  # expoential "
   ]
  },
  {
   "cell_type": "code",
   "execution_count": 19,
   "id": "24f52b9a-cc7a-44b7-90c2-3b49b9d95c14",
   "metadata": {},
   "outputs": [
    {
     "name": "stdout",
     "output_type": "stream",
     "text": [
      "torch.Size([3, 2, 4])\n",
      "tensor([[[0., 0., 0., 0.],\n",
      "         [0., 0., 0., 0.]],\n",
      "\n",
      "        [[0., 0., 0., 0.],\n",
      "         [0., 0., 0., 0.]],\n",
      "\n",
      "        [[0., 0., 0., 0.],\n",
      "         [0., 0., 0., 0.]]])\n",
      "torch.Size([2, 4, 3])\n",
      "tensor([[[0., 0., 0.],\n",
      "         [0., 0., 0.],\n",
      "         [0., 0., 0.],\n",
      "         [0., 0., 0.]],\n",
      "\n",
      "        [[0., 0., 0.],\n",
      "         [0., 0., 0.],\n",
      "         [0., 0., 0.],\n",
      "         [0., 0., 0.]]])\n"
     ]
    }
   ],
   "source": [
    "# transposing\n",
    "\n",
    "input = torch.zeros(2, 3, 4)\n",
    "out1 = input.transpose(0, 1)\n",
    "out2 = input.transpose(-2,-1)\n",
    "print(out1.shape)\n",
    "print(out1)\n",
    "print(out2.shape)\n",
    "print(out2)\n",
    "# torch.permute works the same but you provide the new order of dimensions instead of the dimensions you'd like to swap."
   ]
  },
  {
   "cell_type": "code",
   "execution_count": null,
   "id": "08194cdb-a30d-499e-b26d-e2e5f7eb06c2",
   "metadata": {},
   "outputs": [],
   "source": []
  },
  {
   "cell_type": "code",
   "execution_count": 20,
   "id": "510b4fa2-e5a5-4cb2-ad2c-b9ee57e28182",
   "metadata": {},
   "outputs": [
    {
     "data": {
      "text/plain": [
       "tensor([[1, 2, 3],\n",
       "        [4, 5, 6],\n",
       "        [7, 8, 9]])"
      ]
     },
     "execution_count": 20,
     "metadata": {},
     "output_type": "execute_result"
    }
   ],
   "source": [
    "tensor1 = torch.tensor([1, 2, 3])\n",
    "tensor2 = torch.tensor([4, 5, 6])\n",
    "tensor3 = torch.tensor([7, 8, 9])\n",
    "\n",
    "# Stack the tensors along a new dimension\n",
    "stacked_tensor = torch.stack([tensor1, tensor2, tensor3])\n",
    "stacked_tensor\n"
   ]
  },
  {
   "cell_type": "code",
   "execution_count": 22,
   "id": "04e53259-5f0b-45cf-8fa0-0516cccae8d0",
   "metadata": {},
   "outputs": [
    {
     "name": "stdout",
     "output_type": "stream",
     "text": [
      "tensor([-11.0786,   0.5570,  -8.5548], grad_fn=<SqueezeBackward3>)\n"
     ]
    }
   ],
   "source": [
    "import torch.nn as nn\n",
    "\n",
    "sample = torch.tensor([10.,10.,10.])\n",
    "\n",
    "# linear transformation\n",
    "linear = nn.Linear(3, 3, bias=False)  # important function with learnable parameters\n",
    "print(linear(sample))\n",
    "\n",
    "## nn module is for building all kinds of layers"
   ]
  },
  {
   "cell_type": "code",
   "execution_count": 24,
   "id": "fe5d3960-b104-414d-ab29-1582645fbbbf",
   "metadata": {},
   "outputs": [
    {
     "name": "stdout",
     "output_type": "stream",
     "text": [
      "tensor([0.0900, 0.2447, 0.6652])\n"
     ]
    }
   ],
   "source": [
    "import torch.nn.functional as F\n",
    "\n",
    "# Create a tensor\n",
    "tensor1 = torch.tensor([1.0, 2.0, 3.0])\n",
    "\n",
    "# Apply softmax using torch.nn.functional.softmax()\n",
    "softmax_output = F.softmax(tensor1, dim=0)\n",
    "\n",
    "print(softmax_output)"
   ]
  },
  {
   "cell_type": "code",
   "execution_count": 25,
   "id": "9ca58c07-25df-4242-9f5e-0cf95e33fde3",
   "metadata": {},
   "outputs": [
    {
     "name": "stdout",
     "output_type": "stream",
     "text": [
      "torch.Size([4, 100])\n",
      "tensor([[-0.2188,  0.7841,  2.6403,  0.3121,  0.3632, -0.6621,  2.1412,  0.1229,\n",
      "         -1.0969,  0.5484,  0.3657, -0.4733, -0.3592,  1.0823,  0.7958,  0.3494,\n",
      "         -0.0730,  0.1379, -0.5833,  0.1108, -1.6972, -1.2965,  0.8129, -1.1002,\n",
      "         -0.4932, -0.2337,  0.3880,  1.8393,  2.2960, -2.0821, -0.3419, -1.3160,\n",
      "         -0.0182, -0.6696, -1.7673, -0.0542,  1.1316, -0.0771, -1.0135,  1.2891,\n",
      "         -0.0359, -1.4133,  2.9169, -1.0854,  0.5800, -0.6694, -1.9071, -0.2804,\n",
      "          0.8121,  0.2078,  0.4932, -2.7595, -0.3539,  0.8492,  0.9628, -0.3923,\n",
      "          0.1586,  1.4770,  1.3950,  1.6958, -0.8203, -0.0628,  2.5659, -0.6018,\n",
      "          1.1829, -1.8072, -0.5042,  0.6044, -0.4598,  0.4194,  1.9349,  0.8478,\n",
      "         -0.7287,  0.7869,  1.2730, -0.1650,  0.9479, -0.4012,  1.3671, -0.9694,\n",
      "          0.4269, -0.1384, -0.2320,  0.6373, -0.8759, -1.0238,  0.9546,  0.4444,\n",
      "          0.6822,  0.6657, -0.2852, -0.2930,  0.7320, -2.5093,  0.1909, -0.3346,\n",
      "          1.7275,  0.1092, -0.1145, -0.1606],\n",
      "        [-0.4442, -0.4612,  1.3823, -0.3593,  0.7842,  1.6759, -1.1955,  0.2870,\n",
      "          0.3945,  0.4188, -0.8150, -1.3862,  1.0450,  0.3358, -1.0257,  0.1103,\n",
      "         -0.0354, -0.5066, -0.2486, -2.1233, -0.0825, -0.7153,  0.4893, -1.0892,\n",
      "         -0.9822, -1.3054, -1.7135, -2.0635, -0.3469,  0.2651, -0.0619,  1.8710,\n",
      "         -2.2911,  0.1262, -2.6548,  0.7293, -0.6027, -0.5853,  0.8260, -0.0899,\n",
      "          0.0783, -0.0058, -0.7934, -0.3860, -0.4409,  0.3009,  0.0421, -0.6798,\n",
      "         -0.0660,  0.9091,  3.1740, -0.8739,  0.5020,  0.2451, -0.2613, -1.8226,\n",
      "          0.0113, -1.3221,  0.1454,  0.2181, -0.7566, -0.5777, -2.4454,  0.3686,\n",
      "          0.4604, -0.7236,  0.6672, -0.1099, -0.8776, -1.1733,  0.1701, -0.8377,\n",
      "         -1.5686, -1.5330, -0.5671, -0.5106, -1.8850,  0.9060, -0.2581,  1.5388,\n",
      "          0.4443, -0.2013,  0.4069,  0.3220, -0.5470,  1.6985, -0.4220, -1.4257,\n",
      "         -1.2211,  1.0118,  0.7671, -0.0793, -1.5132,  0.6257,  0.5348,  0.2635,\n",
      "         -0.4687, -0.8553, -0.7419, -0.6210],\n",
      "        [-2.2134, -0.4421,  0.3869, -0.9709, -0.4407, -0.4612,  0.5620, -0.7755,\n",
      "          0.5554,  1.5519, -0.0054, -0.7894, -0.2693, -0.3274, -1.0430,  0.5052,\n",
      "         -0.0302,  0.4123, -0.0087, -0.5043,  0.1742, -1.1200, -0.8302,  0.2167,\n",
      "         -0.8919,  0.7633,  0.9539, -0.9429,  1.5307, -1.0599, -0.4858, -0.4276,\n",
      "          1.5311, -0.3240, -0.5269,  0.6441, -0.1195, -0.7379,  0.7365,  2.0651,\n",
      "         -0.6727,  0.9933,  2.7151,  0.4540, -0.3072, -0.1703, -0.6937,  1.2633,\n",
      "         -0.8714, -1.2767, -0.4442,  0.9611,  1.8251,  1.4999, -0.7069,  0.6506,\n",
      "         -1.2080,  1.0104,  0.8951, -1.2628, -0.8358,  1.1722, -0.5688,  0.4350,\n",
      "          0.0470, -0.6390, -0.7758, -0.5954, -0.0911, -0.1884, -0.9820, -0.8077,\n",
      "         -1.4676, -1.7062, -1.6320, -1.3580,  0.8671, -0.5940,  0.6433, -1.1891,\n",
      "         -1.0319, -0.4790, -0.6252,  2.0299, -0.6191,  0.2224,  0.1643, -0.8314,\n",
      "         -0.4314, -0.3758, -0.7592, -0.3943, -1.9771,  0.3278, -0.9010, -0.2199,\n",
      "         -0.2660,  0.7466,  0.0219, -0.7667],\n",
      "        [-1.1904, -0.4328, -1.9372,  0.3952, -0.3857, -0.7373, -0.4583, -0.5809,\n",
      "         -0.7764,  1.8273, -0.2296,  1.5545,  0.2034, -1.6231, -0.6993,  0.6759,\n",
      "         -1.1551,  0.3283,  0.0389,  1.3359, -0.3748,  0.3279,  0.0286,  1.5074,\n",
      "         -0.0431,  1.3158, -1.3391,  1.8147, -0.6361,  0.5565,  2.1410,  0.5911,\n",
      "          0.2417,  0.2726,  1.7846, -0.1263,  1.2078, -0.2709,  1.4220, -0.2927,\n",
      "          0.3381, -0.6971,  0.2986, -0.1835,  0.6739, -0.1155,  0.4115, -2.2776,\n",
      "          1.3529, -0.5030, -0.4125, -0.0210, -0.1372, -0.1343,  1.4200,  0.1045,\n",
      "         -0.7321,  1.7630,  0.2029, -0.5689,  0.0112,  0.0174, -1.6929, -0.9801,\n",
      "          2.3149,  0.8288, -0.3105,  1.8829, -0.1049,  0.2383,  0.0390, -0.1336,\n",
      "          0.5546,  0.7515,  0.2067, -0.4550,  0.9839,  0.5058, -0.2515, -1.4339,\n",
      "         -2.4982,  1.1258,  2.0638, -1.4527, -0.4950,  2.3524, -0.2242, -0.2028,\n",
      "         -0.1742, -1.2743,  1.1965,  0.9368, -1.1685,  1.3729,  0.0198, -0.8384,\n",
      "         -1.3577, -1.4403, -0.8304, -1.9253]], grad_fn=<EmbeddingBackward0>)\n"
     ]
    }
   ],
   "source": [
    "# Initialize an embedding layer\n",
    "vocab_size = 1000\n",
    "embedding_dim = 100\n",
    "embedding = nn.Embedding(vocab_size, embedding_dim)\n",
    "\n",
    "# Create some input indices\n",
    "input_indices = torch.LongTensor([1, 5, 3, 2])\n",
    "\n",
    "# Apply the embedding layer\n",
    "embedded_output = embedding(input_indices)\n",
    "\n",
    "# The output will be a tensor of shape (4, 100), where 4 is the number of inputs\n",
    "# and 100 is the dimensionality of the embedding vectors\n",
    "print(embedded_output.shape)\n",
    "#print(embedded_output)\n"
   ]
  },
  {
   "cell_type": "code",
   "execution_count": 26,
   "id": "6ed1a814-ffc7-4184-9347-cf6f579b7467",
   "metadata": {},
   "outputs": [
    {
     "name": "stdout",
     "output_type": "stream",
     "text": [
      "tensor([[ 27,  30,  33],\n",
      "        [ 61,  68,  75],\n",
      "        [ 95, 106, 117]])\n"
     ]
    }
   ],
   "source": [
    "# dot production: @\n",
    "\n",
    "a = torch.tensor([[1,2],[3,4],[5,6]])\n",
    "b = torch.tensor([[7,8,9],[10,11,12]])\n",
    "# print(a @ b)\n",
    "print(torch.matmul(a, b))"
   ]
  },
  {
   "cell_type": "code",
   "execution_count": 31,
   "id": "429b53c7-d942-457a-8b10-0091c35c64c7",
   "metadata": {},
   "outputs": [
    {
     "name": "stdout",
     "output_type": "stream",
     "text": [
      "tensor([[0., 0., 0.],\n",
      "        [0., 0., 0.],\n",
      "        [0., 0., 0.]])\n"
     ]
    }
   ],
   "source": [
    "int_64 = torch.randint(1, (3, 2)).float()  # int64 type\n",
    "\n",
    "float_32 = torch.rand(2, 3)  # float32 type\n",
    "\n",
    "result = torch.matmul(int_64, float_32) # dot production \n",
    "print(result)"
   ]
  }
 ],
 "metadata": {
  "kernelspec": {
   "display_name": "Python 3 (ipykernel)",
   "language": "python",
   "name": "python3"
  },
  "language_info": {
   "codemirror_mode": {
    "name": "ipython",
    "version": 3
   },
   "file_extension": ".py",
   "mimetype": "text/x-python",
   "name": "python",
   "nbconvert_exporter": "python",
   "pygments_lexer": "ipython3",
   "version": "3.9.13"
  }
 },
 "nbformat": 4,
 "nbformat_minor": 5
}
